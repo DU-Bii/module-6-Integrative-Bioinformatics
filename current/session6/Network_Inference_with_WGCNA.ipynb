{
 "cells": [
  {
   "cell_type": "markdown",
   "metadata": {},
   "source": [
    "# WGCNA Network analysis of liver expression data in female mice\n",
    "\n",
    "__Session 6 Tutorial for Module 6 DUBII 2021__\n",
    "\n",
    "##### Costas Bouyioukos Universite de Paris and Anais Baudot CNRS\n",
    "\n",
    "## 1. Preliminaries and data input"
   ]
  },
  {
   "cell_type": "code",
   "execution_count": null,
   "metadata": {},
   "outputs": [],
   "source": [
    "#  Code chunk 1\n",
    "## Display the current working directory\n",
    "#getwd();\n",
    "## If necessary, change the path below to the directory where the data files are stored.\n",
    "## \".\" means current directory.\n",
    "#workingDir = \".\";\n",
    "#setwd(workingDir);\n",
    "# Load the WGCNA package\n",
    "library(WGCNA);\n",
    "## The following setting is important, do not omit.\n",
    "#options(stringsAsFactors = FALSE);\n",
    "#Read in the female liver data set\n",
    "femData = read.csv(\"data/LiverFemale3600.csv\");\n",
    "# Take a quick look at what is in the data set:\n",
    "dim(femData);\n",
    "names(femData);\n",
    "head(femData);"
   ]
  },
  {
   "cell_type": "markdown",
   "metadata": {},
   "source": [
    "**Keep only the part of the data that contains the gene expression and keep the gene names as data frame index.**"
   ]
  },
  {
   "cell_type": "code",
   "execution_count": null,
   "metadata": {},
   "outputs": [],
   "source": [
    "#  Code chunk 2\n",
    "datExpr0 = as.data.frame(t(femData[, -c(1:8)]));\n",
    "names(datExpr0) = femData$substanceBXH;\n",
    "rownames(datExpr0) = names(femData)[-c(1:8)];\n",
    "datExpr0"
   ]
  },
  {
   "cell_type": "markdown",
   "metadata": {},
   "source": [
    "**Check if there are genes with missing values.**"
   ]
  },
  {
   "cell_type": "code",
   "execution_count": null,
   "metadata": {},
   "outputs": [],
   "source": [
    "#  Code chunk 3\n",
    "gsg = goodSamplesGenes(datExpr0, verbose = 3);\n",
    "gsg$allOK"
   ]
  },
  {
   "cell_type": "markdown",
   "metadata": {},
   "source": [
    "**All genes are OK!**\n",
    "\n",
    "#### Cluster the transposed matrix to identify sample outliers."
   ]
  },
  {
   "cell_type": "code",
   "execution_count": null,
   "metadata": {},
   "outputs": [],
   "source": [
    "#  Code chunk 4\n",
    "sampleTree = hclust(dist(datExpr0), method = \"average\");\n",
    "# Plot the sample tree: Open a graphic output window of size 12 by 10 inches\n",
    "# The user should change the dimensions if the window is too large or too small.\n",
    "options(repr.plot.width = 12, repr.plot.height = 10)\n",
    "plot(sampleTree, main = \"Sample clustering to detect outliers\", sub=\"\", xlab=\"\",\n",
    "     cex.lab = 1.2, cex.axis = 1.5, cex.main = 2)\n",
    "# Plot a line to show the cut\n",
    "abline(h = 15, col = \"red\");"
   ]
  },
  {
   "cell_type": "markdown",
   "metadata": {},
   "source": [
    "**Identify the outlier.**"
   ]
  },
  {
   "cell_type": "code",
   "execution_count": null,
   "metadata": {},
   "outputs": [],
   "source": [
    "#  Code chunk 5\n",
    "# Determine cluster under the line\n",
    "clust = cutreeStatic(sampleTree, cutHeight = 15, minSize = 10)\n",
    "table(clust)"
   ]
  },
  {
   "cell_type": "markdown",
   "metadata": {},
   "source": [
    "**Remove the outlier and construct the main data frame.**"
   ]
  },
  {
   "cell_type": "code",
   "execution_count": null,
   "metadata": {},
   "outputs": [],
   "source": [
    "#  Code chunk 5\n",
    "# clust 1 contains the samples we want to keep.\n",
    "keepSamples = (clust==1)\n",
    "datExpr = datExpr0[keepSamples, ]\n",
    "nGenes = ncol(datExpr)\n",
    "nSamples = nrow(datExpr)"
   ]
  },
  {
   "cell_type": "markdown",
   "metadata": {},
   "source": [
    "#### Import the clinical data, preapre and clean it."
   ]
  },
  {
   "cell_type": "code",
   "execution_count": null,
   "metadata": {},
   "outputs": [],
   "source": [
    "#  Code chunk 7\n",
    "traitData = read.csv(\"data/ClinicalTraits.csv\");\n",
    "dim(traitData)\n",
    "names(traitData)\n",
    "# remove columns that hold information we do not need.\n",
    "allTraits = traitData[, -c(31, 16)];\n",
    "allTraits = allTraits[, c(2, 11:36) ];\n",
    "dim(allTraits)\n",
    "names(allTraits)\n",
    "# Form a data frame analogous to expression data that will hold the clinical traits.\n",
    "femaleSamples = rownames(datExpr);\n",
    "traitRows = match(femaleSamples, allTraits$Mice);\n",
    "datTraits = allTraits[traitRows, -1];\n",
    "rownames(datTraits) = allTraits[traitRows, 1];"
   ]
  },
  {
   "cell_type": "markdown",
   "metadata": {},
   "source": [
    "**Repeat the sample clustering together with a heat-map of the phenotypic data.**"
   ]
  },
  {
   "cell_type": "code",
   "execution_count": null,
   "metadata": {},
   "outputs": [],
   "source": [
    "datTraits"
   ]
  },
  {
   "cell_type": "code",
   "execution_count": null,
   "metadata": {},
   "outputs": [],
   "source": [
    "#  Code chunk 8\n",
    "# Re-cluster samples\n",
    "sampleTree2 = hclust(dist(datExpr), method = \"average\")\n",
    "# Convert traits to a color representation: white means low, red means high, grey means missing entry\n",
    "traitColors = numbers2colors(datTraits, signed = FALSE);\n",
    "# Plot the sample dendrogram and the colors underneath.\n",
    "options(repr.plot.width = 15, repr.plot.height = 12)\n",
    "plotDendroAndColors(sampleTree2, traitColors,\n",
    "                    groupLabels = names(datTraits),\n",
    "                    main = \"Sample dendrogram and trait heatmap\")"
   ]
  },
  {
   "cell_type": "markdown",
   "metadata": {},
   "source": [
    "**Save the analysis to an RData file.**"
   ]
  },
  {
   "cell_type": "code",
   "execution_count": null,
   "metadata": {},
   "outputs": [],
   "source": [
    "# Code chunk 9\n",
    "save(datExpr, datTraits, file = \"FemaleLiver-01-dataInput.RData\")"
   ]
  },
  {
   "cell_type": "markdown",
   "metadata": {},
   "source": [
    "## 2. Automatic network construction and module detection"
   ]
  },
  {
   "cell_type": "code",
   "execution_count": null,
   "metadata": {},
   "outputs": [],
   "source": [
    "#  Code chunk 10\n",
    "# Allow multi-threading within WGCNA. This helps speed up certain calculations.\n",
    "# At present this call is necessary for the code to work.\n",
    "# Any error here may be ignored but you may want to update WGCNA if you see one.\n",
    "# See note above.\n",
    "allowWGCNAThreads()\n",
    "# Load the data saved in the first part\n",
    "lnames = load(file = \"FemaleLiver-01-dataInput.RData\");\n",
    "#The variable lnames contains the names of loaded variables.\n",
    "lnames"
   ]
  },
  {
   "cell_type": "markdown",
   "metadata": {},
   "source": [
    "#### The most convenient and automatic way to detect modules and construct a network with WGCNA.\n",
    "\n",
    "Here the developers of WGCNA are proposing a \"soft thresholding\" approach. This method identifies a power -to wich the correlation matrix is raised in order to calculate the network adjacency matrix- based on the criterion of scale-free approximation."
   ]
  },
  {
   "cell_type": "code",
   "execution_count": null,
   "metadata": {},
   "outputs": [],
   "source": [
    "#  Code chunk 11\n",
    "# Choose a set of soft-thresholding powers\n",
    "powers = c(c(1:10), seq(from = 12, to = 20, by = 2))\n",
    "# Call the network topology analysis function\n",
    "sft = pickSoftThreshold(datExpr, powerVector = powers, verbose = 5)\n",
    "# Plot the results:\n",
    "par(mfrow = c(1, 2));\n",
    "options(repr.plot.width = 14, repr.plot.height = 10);\n",
    "# Scale-free topology fit index as a function of the soft-thresholding power\n",
    "plot(sft$fitIndices[,1], -sign(sft$fitIndices[,3])*sft$fitIndices[,2],\n",
    "     xlab = \"Soft Threshold (power)\", ylab = \"Scale Free Topology Model Fit,signed R^2\", type = \"n\",\n",
    "     main = paste(\"Scale independence\"));\n",
    "text(sft$fitIndices[,1], -sign(sft$fitIndices[,3])*sft$fitIndices[,2],\n",
    "     labels = powers, cex = 0.9, col = \"red\");\n",
    "# this line corresponds to using an R^2 cut-off of h\n",
    "abline(h = 0.90, col = \"red\")\n",
    "# Mean connectivity as a function of the soft-thresholding power\n",
    "plot(sft$fitIndices[,1], sft$fitIndices[,5],\n",
    "     xlab = \"Soft Threshold (power)\", ylab = \"Mean Connectivity\", type = \"n\",\n",
    "     main = paste(\"Mean connectivity\"))\n",
    "text(sft$fitIndices[,1], sft$fitIndices[,5], labels = powers, cex = 0.9, col = \"red\")"
   ]
  },
  {
   "cell_type": "markdown",
   "metadata": {},
   "source": [
    "### The actual network construction step.\n",
    "\n",
    "We choose 6 (or 7 for signed) as the lowest power that constructs a scale free topology.\n",
    "And then we instruct the function to generate modules of size 30, merge modules which are more than 25% similar and save the Topological Overlap Matrix in an object."
   ]
  },
  {
   "cell_type": "code",
   "execution_count": null,
   "metadata": {},
   "outputs": [],
   "source": [
    "#  Code chunk 12\n",
    "net = blockwiseModules(datExpr, power = 7,\n",
    "                       TOMType = \"signed\", minModuleSize = 30,\n",
    "                       reassignThreshold = 1e-6, mergeCutHeight = 0.25,\n",
    "                       numericLabels = TRUE, pamRespectsDendro = FALSE,\n",
    "                       saveTOMs = TRUE, nThreads = 8,\n",
    "                       saveTOMFileBase = \"femaleMouseTOM\",\n",
    "                       verbose = 3)"
   ]
  },
  {
   "cell_type": "markdown",
   "metadata": {},
   "source": [
    "**Here is the modules (as numbers and not colours yet) of each module with its size.**"
   ]
  },
  {
   "cell_type": "code",
   "execution_count": null,
   "metadata": {},
   "outputs": [],
   "source": [
    "colnames(net$MEs)"
   ]
  },
  {
   "cell_type": "markdown",
   "metadata": {},
   "source": [
    "**Here is the resuling plot dendrogram of the module construction and the clustering of the genes.**"
   ]
  },
  {
   "cell_type": "code",
   "execution_count": null,
   "metadata": {},
   "outputs": [],
   "source": [
    "#  Code chunk 13\n",
    "# Convert labels to colors for plotting\n",
    "mergedColors = labels2colors(net$colors)\n",
    "#mergedColors\n",
    "# Plot the dendrogram and the module colors underneath\n",
    "plotDendroAndColors(net$dendrograms[[1]], mergedColors[net$blockGenes[[1]]],\n",
    "                    \"Module colors\",\n",
    "                    dendroLabels = FALSE, hang = 0.03,\n",
    "                    addGuide = TRUE, guideHang = 0.05)"
   ]
  },
  {
   "cell_type": "markdown",
   "metadata": {},
   "source": [
    "**Save results of this part in an .RData file.**"
   ]
  },
  {
   "cell_type": "code",
   "execution_count": null,
   "metadata": {},
   "outputs": [],
   "source": [
    "#  Code chunk 14\n",
    "moduleLabels = net$colors\n",
    "moduleColors = labels2colors(net$colors)\n",
    "MEs = net$MEs;\n",
    "geneTree = net$dendrograms[[1]];\n",
    "save(MEs, moduleLabels, moduleColors, geneTree,\n",
    "     file = \"FemaleLiver-02-networkConstruction-auto.RData\")"
   ]
  },
  {
   "cell_type": "markdown",
   "metadata": {},
   "source": [
    "## 3. Relating modules to external information and identifying important genes"
   ]
  },
  {
   "cell_type": "code",
   "execution_count": null,
   "metadata": {},
   "outputs": [],
   "source": [
    "#  Code chunk 15\n",
    "lnames = load(file = \"FemaleLiver-01-dataInput.RData\");\n",
    "#The variable lnames contains the names of loaded variables.\n",
    "lnames\n",
    "# Load network data saved in the second part.\n",
    "lnames = load(file = \"FemaleLiver-02-networkConstruction-auto.RData\");\n",
    "lnames"
   ]
  },
  {
   "cell_type": "markdown",
   "metadata": {},
   "source": [
    "### Quantifying module–trait associations\n",
    "\n",
    "Here we identify modules that are significantly associated with the measured clinical traits.\n",
    "We already have a computed summary profile (eigengene) for each module, so then we simply correlate eigengenes with phenotypic traits and look for the most significant associations:"
   ]
  },
  {
   "cell_type": "code",
   "execution_count": null,
   "metadata": {},
   "outputs": [],
   "source": [
    "#  Code chunk 16\n",
    "# Define numbers of genes and samples\n",
    "nGenes = ncol(datExpr);\n",
    "nSamples = nrow(datExpr);\n",
    "# Recalculate MEs with color labels\n",
    "MEs0 = moduleEigengenes(datExpr, moduleColors)$eigengenes\n",
    "MEs = orderMEs(MEs0)\n",
    "moduleTraitCor = cor(MEs, datTraits, use = \"p\");\n",
    "moduleTraitPvalue = corPvalueStudent(moduleTraitCor, nSamples);"
   ]
  },
  {
   "cell_type": "markdown",
   "metadata": {},
   "source": [
    "#### Visualise the module-trait association.\n",
    "\n",
    "Each module eigengene and its correlation coefficient are ploted here.\n",
    "Since we have many a colour code aids the interprettion of the plot."
   ]
  },
  {
   "cell_type": "code",
   "execution_count": null,
   "metadata": {},
   "outputs": [],
   "source": [
    "#  Code chunk 17\n",
    "options(repr.plot.width=16, repr.plot.height=12)\n",
    "# Will display correlations and their p-values\n",
    "textMatrix =  paste(signif(moduleTraitCor, 2), \"\\n(\",\n",
    "                           signif(moduleTraitPvalue, 1), \")\", sep = \"\");\n",
    "dim(textMatrix) = dim(moduleTraitCor)\n",
    "par(mar = c(6, 11, 1, 0));\n",
    "# Display the correlation values within a heatmap plot\n",
    "labeledHeatmap(Matrix = moduleTraitCor,\n",
    "               xLabels = names(datTraits),\n",
    "               yLabels = names(MEs),\n",
    "               ySymbols = names(MEs),\n",
    "               colorLabels = FALSE,\n",
    "               colors = blueWhiteRed(50),\n",
    "               textMatrix = textMatrix,\n",
    "               setStdMargins = FALSE,\n",
    "               cex.text = 0.5,\n",
    "               zlim = c(-1,1),\n",
    "               main = paste(\"Module-trait relationships\"))"
   ]
  },
  {
   "cell_type": "code",
   "execution_count": null,
   "metadata": {},
   "outputs": [],
   "source": [
    "#  Code chunk 18\n",
    "names(datExpr)[moduleColors==\"salmon\"]"
   ]
  },
  {
   "cell_type": "markdown",
   "metadata": {},
   "source": [
    "#### Probe annotation file provided by the manufacturer to facilitate functional annotation."
   ]
  },
  {
   "cell_type": "code",
   "execution_count": null,
   "metadata": {},
   "outputs": [],
   "source": [
    "#  Code chunk 19\n",
    "annot = read.csv(file = \"data/GeneAnnotation.csv\");\n",
    "dim(annot)\n",
    "names(annot)\n",
    "probes = names(datExpr)\n",
    "probes2annot = match(probes, annot$substanceBXH)\n",
    "# The following is the number or probes without annotation:\n",
    "sum(is.na(probes2annot))\n",
    "# Should return 0."
   ]
  },
  {
   "cell_type": "markdown",
   "metadata": {
    "collapsed": true
   },
   "source": [
    "#### Collect all the information for significant genes related to body weight."
   ]
  },
  {
   "cell_type": "code",
   "execution_count": null,
   "metadata": {},
   "outputs": [],
   "source": [
    "weight = as.data.frame(datTraits$weight_g);\n",
    "geneModuleMembership = as.data.frame(cor(datExpr, MEs, use = \"p\"));\n",
    "MMPvalue = as.data.frame(corPvalueStudent(as.matrix(geneModuleMembership), nSamples));\n",
    "modNames = substring(names(MEs), 3);\n",
    "names(geneModuleMembership) = paste(\"MM\", modNames, sep=\"\");\n",
    "names(MMPvalue) = paste(\"p.MM\", modNames, sep=\"\");\n",
    "geneTraitSignificance = as.data.frame(cor(datExpr, weight, use = \"p\"));\n",
    "GSPvalue = as.data.frame(corPvalueStudent(as.matrix(geneTraitSignificance), nSamples));\n",
    "names(geneTraitSignificance) = paste(\"GS.\", names(weight), sep=\"\");\n",
    "names(GSPvalue) = paste(\"p.GS.\", names(weight), sep=\"\");\n",
    "\n",
    "#  Code chunk 20\n",
    "# Create the starting data frame\n",
    "geneInfo0 = data.frame(substanceBXH = probes,\n",
    "                      geneSymbol = annot$gene_symbol[probes2annot],\n",
    "                      LocusLinkID = annot$LocusLinkID[probes2annot],\n",
    "                      moduleColor = moduleColors,\n",
    "                      geneTraitSignificance,\n",
    "                      GSPvalue)\n",
    "# Order modules by their significance for weight\n",
    "modOrder = order(-abs(cor(MEs, weight, use = \"p\")));\n",
    "# Add module membership information in the chosen order\n",
    "for (mod in 1:ncol(geneModuleMembership))\n",
    "{\n",
    "  oldNames = names(geneInfo0)\n",
    "  geneInfo0 = data.frame(geneInfo0, geneModuleMembership[, modOrder[mod]],\n",
    "                         MMPvalue[, modOrder[mod]]);\n",
    "  names(geneInfo0) = c(oldNames, paste(\"MM.\", modNames[modOrder[mod]], sep=\"\"),\n",
    "                       paste(\"p.MM.\", modNames[modOrder[mod]], sep=\"\"))\n",
    "}\n",
    "\n",
    "# Order the genes in the geneInfo variable first by module color, then by geneTraitSignificance\n",
    "geneOrder = order(geneInfo0$moduleColor, -abs(geneInfo0$GS.datTraits.weight_g));\n",
    "geneInfo = geneInfo0[geneOrder, ]"
   ]
  },
  {
   "cell_type": "markdown",
   "metadata": {},
   "source": [
    "##### Save the results in an output file for further analysis."
   ]
  },
  {
   "cell_type": "code",
   "execution_count": null,
   "metadata": {},
   "outputs": [],
   "source": [
    "#  Code chunk 21\n",
    "write.csv(geneInfo, file = \"geneInfo.csv\")"
   ]
  },
  {
   "cell_type": "markdown",
   "metadata": {},
   "source": [
    "## 4. Interfacing network analysis with other data such as functional annotation and gene ontology"
   ]
  },
  {
   "cell_type": "code",
   "execution_count": null,
   "metadata": {},
   "outputs": [],
   "source": [
    "#  Code chunk 22\n",
    "# Load the expression and trait data saved in the first part\n",
    "lnames = load(file = \"FemaleLiver-01-dataInput.RData\");\n",
    "#The variable lnames contains the names of loaded variables.\n",
    "lnames\n",
    "# Load network data saved in the second part.\n",
    "lnames = load(file = \"FemaleLiver-02-networkConstruction-auto.RData\");\n",
    "lnames"
   ]
  },
  {
   "cell_type": "code",
   "execution_count": null,
   "metadata": {},
   "outputs": [],
   "source": [
    "#  Code chunk 23\n",
    "# Read in the probe annotation\n",
    "annot = read.csv(file = \"data/GeneAnnotation.csv\");\n",
    "# Match probes in the data set to the probe IDs in the annotation file\n",
    "probes = names(datExpr)\n",
    "probes2annot = match(probes, annot$substanceBXH)\n",
    "# Get the corresponding Locuis Link IDs\n",
    "allLLIDs = annot$LocusLinkID[probes2annot];\n",
    "# $ Choose interesting modules\n",
    "intModules = c(\"brown\", \"red\", \"salmon\")\n",
    "for (module in intModules)\n",
    "{\n",
    "  # Select module probes\n",
    "  modGenes = (moduleColors==module)\n",
    "  # Get their entrez ID codes\n",
    "  modLLIDs = allLLIDs[modGenes];\n",
    "  # Write them into a file\n",
    "  fileName = paste(\"LocusLinkIDs-\", module, \".txt\", sep=\"\");\n",
    "  write.table(as.data.frame(modLLIDs), file = fileName,\n",
    "              row.names = FALSE, col.names = FALSE)\n",
    "}\n",
    "# As background in the enrichment analysis, we will use all probes in the analysis.\n",
    "fileName = paste(\"LocusLinkIDs-all.txt\", sep=\"\");\n",
    "write.table(as.data.frame(allLLIDs), file = fileName,\n",
    "            row.names = FALSE, col.names = FALSE)"
   ]
  },
  {
   "cell_type": "code",
   "execution_count": null,
   "metadata": {},
   "outputs": [],
   "source": [
    "#  Code chunk 24\n",
    "GOenr = GOenrichmentAnalysis(moduleColors, allLLIDs, organism = \"mouse\", nBestP = 10);"
   ]
  },
  {
   "cell_type": "code",
   "execution_count": null,
   "metadata": {},
   "outputs": [],
   "source": [
    "#anRichment(moduleColors, allLLIDs, organism = \"mouse\", nBestP = 10);  # Does not work yet."
   ]
  },
  {
   "cell_type": "code",
   "execution_count": null,
   "metadata": {},
   "outputs": [],
   "source": [
    "#  Code chunk 25\n",
    "tab = GOenr$bestPTerms[[4]]$enrichment"
   ]
  },
  {
   "cell_type": "code",
   "execution_count": null,
   "metadata": {},
   "outputs": [],
   "source": [
    "#  Code chunk 26\n",
    "names(tab)"
   ]
  },
  {
   "cell_type": "code",
   "execution_count": null,
   "metadata": {},
   "outputs": [],
   "source": [
    "#  Code chunk 27\n",
    "write.table(tab, file = \"GOEnrichmentTable.csv\", sep = \",\", quote = TRUE, row.names = FALSE)"
   ]
  },
  {
   "cell_type": "code",
   "execution_count": null,
   "metadata": {},
   "outputs": [],
   "source": [
    "#  Code chunk 28\n",
    "keepCols = c(1, 2, 5, 6, 7, 12, 13);\n",
    "screenTab = tab[, keepCols];\n",
    "# Round the numeric columns to 2 decimal places:\n",
    "numCols = c(3, 4);\n",
    "screenTab[, numCols] = signif(apply(screenTab[, numCols], 2, as.numeric), 2)\n",
    "# Truncate the the term name to at most 40 characters\n",
    "screenTab[, 7] = substring(screenTab[, 7], 1, 40)\n",
    "# Shorten the column names:\n",
    "colnames(screenTab) = c(\"module\", \"size\", \"p-val\", \"Bonf\", \"nInTerm\", \"ont\", \"term name\");\n",
    "rownames(screenTab) = NULL;\n",
    "# Set the width of R's output. The reader should play with this number to obtain satisfactory output.\n",
    "options(width=95)\n",
    "# Finally, display the enrichment table:\n",
    "screenTab"
   ]
  },
  {
   "cell_type": "markdown",
   "metadata": {},
   "source": [
    "## 5. Export of networks to external software"
   ]
  },
  {
   "cell_type": "code",
   "execution_count": null,
   "metadata": {},
   "outputs": [],
   "source": [
    "#  Code chunk 29\n",
    "# Load the expression and trait data saved in the first part\n",
    "lnames = load(file = \"FemaleLiver-01-dataInput.RData\");\n",
    "#The variable lnames contains the names of loaded variables.\n",
    "lnames\n",
    "# Load network data saved in the second part.\n",
    "lnames = load(file = \"FemaleLiver-02-networkConstruction-auto.RData\");\n",
    "lnames"
   ]
  },
  {
   "cell_type": "code",
   "execution_count": null,
   "metadata": {},
   "outputs": [],
   "source": [
    "#  Code chunk 30\n",
    "# Recalculate topological overlap if needed\n",
    "TOM = TOMsimilarityFromExpr(datExpr, power = 7);\n",
    "# Read in the annotation file\n",
    "annot = read.csv(file = \"data/GeneAnnotation.csv\");\n",
    "# Select modules\n",
    "modules = c(\"brown\", \"blue\");\n",
    "# Select module probes\n",
    "probes = names(datExpr)\n",
    "inModule = is.finite(match(moduleColors, modules));\n",
    "modProbes = probes[inModule];\n",
    "modGenes = annot$gene_symbol[match(modProbes, annot$substanceBXH)];\n",
    "# Select the corresponding Topological Overlap\n",
    "modTOM = TOM[inModule, inModule];\n",
    "dimnames(modTOM) = list(modProbes, modProbes)\n",
    "# Export the network into edge and node list files Cytoscape can read\n",
    "cyt = exportNetworkToCytoscape(modTOM,\n",
    "  edgeFile = paste(\"CytoscapeInput-edges-\", paste(modules, collapse=\"-\"), \".txt\", sep=\"\"),\n",
    "  nodeFile = paste(\"CytoscapeInput-nodes-\", paste(modules, collapse=\"-\"), \".txt\", sep=\"\"),\n",
    "  weighted = TRUE,\n",
    "  threshold = 0.1,\n",
    "  nodeNames = modProbes,\n",
    "  altNodeNames = modGenes,\n",
    "  nodeAttr = moduleColors[inModule]);"
   ]
  },
  {
   "cell_type": "markdown",
   "metadata": {},
   "source": [
    "__Open these two files as node table and edge table with Cytoscape and inspect the network of the brown-red modules__"
   ]
  },
  {
   "cell_type": "code",
   "execution_count": null,
   "metadata": {},
   "outputs": [],
   "source": []
  }
 ],
 "metadata": {
  "kernelspec": {
   "display_name": "R",
   "language": "R",
   "name": "ir"
  },
  "language_info": {
   "codemirror_mode": "r",
   "file_extension": ".r",
   "mimetype": "text/x-r-source",
   "name": "R",
   "pygments_lexer": "r",
   "version": "4.0.4"
  }
 },
 "nbformat": 4,
 "nbformat_minor": 2
}
