{
 "cells": [
  {
   "cell_type": "markdown",
   "metadata": {},
   "source": [
    "# Life Science ontologies and Knowledge Graphs, HANDS-ON\n",
    "\n",
    "*Alban Gaignard, alban.gaignard@univ-nantes.fr*\n",
    "\n",
    "*HANDS-ON session given as part of DUBiI 2020 session 4 (https://www.france-bioinformatique.fr/fr/diplome-universitaire-en-bioinformatique-integrative-du-bii-2020)*\n",
    "\n",
    "At the end of this hands-on session, you will be able to\n",
    " - explore and search publicly available biomedical ontologies, combine knowl- edge provided by multiple ontologies,\n",
    " - computationally exploit these ontologies: explore node neighborhood, navi- gate class hierarchies, retrieve synonyms,\n",
    " - understand how biochemical regulations are modeled in BioPAX,\n",
    " - assemble/summarize new graphs based on graph patterns.\n"
   ]
  },
  {
   "cell_type": "markdown",
   "metadata": {},
   "source": [
    "# 1. Exploring Life Science ontologies\n",
    "\n",
    "BioPortal (https://bioportal.bioontology.org) is a large repository of biomedical ontologies gathering 600+ ontologies and 8+ million classes. We will use this web resource to navigate and retrieve biomedical knowledge."
   ]
  },
  {
   "cell_type": "markdown",
   "metadata": {},
   "source": [
    "## Question 1\n",
    "Search for two definitions of “mitral valve prolapse”, coming from two different ontologies."
   ]
  },
  {
   "cell_type": "code",
   "execution_count": null,
   "metadata": {},
   "outputs": [],
   "source": []
  },
  {
   "cell_type": "markdown",
   "metadata": {},
   "source": [
    "## Question 2\n",
    "In the human phenotype ontology, search for all sub-classes of “mitral stenosis”. You will use the “jump to” search box to directly display the corresponding class."
   ]
  },
  {
   "cell_type": "code",
   "execution_count": null,
   "metadata": {},
   "outputs": [],
   "source": []
  },
  {
   "cell_type": "markdown",
   "metadata": {},
   "source": [
    "## Question 3\n",
    "Still from the Human Phenotype Ontology, list “mitral valve prolapse” class map- pings. Based on its corresponding class in the OMIM ontology (Online Mendelian Inheritance in Man), retrieve possibly involved genes. You will need to navigate through “manifestation of” and “gene symbol” properties."
   ]
  },
  {
   "cell_type": "code",
   "execution_count": null,
   "metadata": {},
   "outputs": [],
   "source": []
  },
  {
   "cell_type": "markdown",
   "metadata": {},
   "source": [
    "---"
   ]
  },
  {
   "cell_type": "markdown",
   "metadata": {},
   "source": [
    "Up to now we browsed web pages to retrieve biomedical knowledge. In the following questions, we will use the *beta* BioPortal SPARQL endpoint (http://sparql.bioontology.org) to automate information retrieval."
   ]
  },
  {
   "cell_type": "markdown",
   "metadata": {},
   "source": [
    "## Question 4\n",
    "Execute a SPARQL DESCRIBE query to display all the outgoing properties of “mitral valve prolapse” (```http://purl.bioontology.org/ontology/OMIM/MTHU001468```)"
   ]
  },
  {
   "cell_type": "code",
   "execution_count": 1,
   "metadata": {},
   "outputs": [],
   "source": [
    "query = \"\"\"\n",
    "DESCRIBE <http://purl.bioontology.org/ontology/OMIM/MTHU001468>\n",
    "\"\"\""
   ]
  },
  {
   "cell_type": "markdown",
   "metadata": {},
   "source": [
    "## Question 5. \n",
    "Write a SPARQL SELECT query to list all genes possibly involved in mitral valve prolapse (you can execute a SPARQL DESCRIBE on a `manifestation` to find the property URI linking gene symbols."
   ]
  },
  {
   "cell_type": "code",
   "execution_count": 2,
   "metadata": {},
   "outputs": [],
   "source": [
    "query = \"\"\"\n",
    "PREFIX omim: <http://purl.bioontology.org/ontology/OMIM/> \n",
    "SELECT ?gene WHERE {\n",
    "    omim:MTHU001468 omim:manifestation_of ?manifestation .\n",
    "    ?manifestation omim:GENESYMBOL ?gene\n",
    "}\n",
    "\"\"\""
   ]
  },
  {
   "cell_type": "markdown",
   "metadata": {},
   "source": [
    "## Question 6\n",
    "Write a SPARQL SELECT query to list the direct subclasses of heart valve diseases and their synonyms. You will use the `DOID ontology`, the `rdfs:subClassOf` and `obo:hasExactSynonym` properties. Don’t forget to start by describing the `DOID_4079` resource (`DESCRIBE` query)."
   ]
  },
  {
   "cell_type": "code",
   "execution_count": 3,
   "metadata": {},
   "outputs": [],
   "source": [
    "#DESCRIBE <http://purl.obolibrary.org/obo/DOID_4079>\n",
    "\n",
    "query = \"\"\"\n",
    "PREFIX rdfs: <http://www.w3.org/2000/01/rdf-schema#> \n",
    "PREFIX obo: <http://www.geneontology.org/formats/oboInOwl#>\n",
    "\n",
    "SELECT DISTINCT ?subclass ?label ?syn WHERE {\n",
    "    ?subclass rdfs:subClassOf <http://purl.obolibrary.org/obo/DOID_4079> . \n",
    "    ?subclass rdfs:label ?label .\n",
    "    ?subclass obo:hasExactSynonym ?syn .\n",
    "}\n",
    "\"\"\""
   ]
  },
  {
   "cell_type": "markdown",
   "metadata": {},
   "source": [
    "# 2. Querying gene regulation resources  \n",
    "\n",
    "We will now use PathwayCommons (http://www.pathwaycommons.org), an RDF dataset used to represent biological signaling pathways. PathwayCommons can be queried through its SPARQL endpoint (http://rdf.pathwaycommons.org/sparql). \n",
    "\n",
    "Pathway commons use the BioPAX ontology to represent regulation and signaling knowledge. Have a look on Figure 3 and Figure 4 of the BioPAX paper (https://www.researchgate.net/publication/46191859_BioPAX_-_A_community_standard_for_pathway_data_sharing) to have a quick overview of BioPAX. \n",
    "\n",
    "We are interested in **activation** or **inhibition** gene regulations. The following *turtle* syntax shows how they can be represented in BioPAX. \n",
    "\n",
    "```\n",
    "@prefix rdf: <http://www.w3.org/1999/02/22-rdf-syntax-ns#> . \n",
    "@prefix pc2: <http://pathwaycommons.org/pc2/> .\n",
    "@prefix bp: <http://www.biopax.org/release/biopax-level3.owl#> .\n",
    "@prefix xsd: <http://www.w3.org/2001/XMLSchema#> .\n",
    "\n",
    "pc2:TemplateReactionRegulation_145afc203ffa1cb5a00fa445a5a63c64 rdf:type bp:TemplateReactionRegulation .\n",
    "\n",
    "pc2:TemplateReactionRegulation_145afc203ffa1cb5a00fa445a5a63c64 bp:comment \" REPLACED http://www.ctdbase.org/#EXP_2556811\"^^xsd:string ;\n",
    "    bp:controlType \"ACTIVATION\"^^xsd:string ;\n",
    "    bp:controlled pc2:TemplateReaction_9129e01e3c570005d993c44e75b2134c ; \n",
    "    bp:controller pc2:SmallMolecule_38f43f385b04215c6ac89a44cdc22f67 ; \n",
    "    bp:dataSource pc2:ctd ;\n",
    "    bp:displayName \"Phenobarbital results in increased expression of CYP2B6 protein \"^^xsd:string ;\n",
    "    bp:xref <http://identifiers.org/pubmed/19084549> , \n",
    "            <http://identifiers.org/pubmed/12571232> , \n",
    "            <http://identifiers.org/pubmed/19952500> , \n",
    "            <http://identifiers.org/pubmed/21778469> ,\n",
    "            <http://identifiers.org/pubmed/24224465> , \n",
    "            <http://identifiers.org/pubmed/21227907> , \n",
    "            <http://identifiers.org/pubmed/25512232> , \n",
    "            <http://identifiers.org/pubmed/14977870> , \n",
    "            <http://identifiers.org/pubmed/15548381> , \n",
    "            <http://identifiers.org/pubmed/20361990> .\n",
    "```\n"
   ]
  },
  {
   "cell_type": "markdown",
   "metadata": {},
   "source": [
    "## Question 7\n",
    "On a piece of paper, draw the correposnding directed labelled graph. "
   ]
  },
  {
   "cell_type": "markdown",
   "metadata": {},
   "source": [
    "## Question 8\n",
    "Based on this description, write a query to show the names of all genes that regulate (activation or inhibition) SCN5A. Proceed with the following steps :\n",
    "1. identify regulation reactions with resources of type `bp:TemplateReactionRegulation` (don’t forget to use a LIMIT 10 to get fast results)\n",
    "2. show their control type (`bp:controlType` property) and filter only “activation” or “inhibition”.\n",
    "3. show the associated scientific publication with the `bp:xref` property. Make sure that “pubmed” is contained in its URI (you can use a FILTER fonction: `FILTER (regex(?publi, \"pubmed\"))`).\n",
    "4. identify the source of the regulation (`bp:controller`) and its display name (`bp:displayName`).\n",
    "5. identify the target of the regulation (`bp:controlled`) and its display name (`bp:displayName`). Make sure (FILTER) that the display name is our target gene: SCN5A."
   ]
  },
  {
   "cell_type": "code",
   "execution_count": 4,
   "metadata": {},
   "outputs": [],
   "source": [
    "query = \"\"\"\n",
    "PREFIX bp: <http://www.biopax.org/release/biopax-level3.owl#>\n",
    "\n",
    "SELECT * WHERE {\n",
    "    ?regul rdf:type bp:TemplateReactionRegulation . \n",
    "    ?regul bp:dataSource ?ds . \n",
    "    ?regul bp:controlType ?type .\n",
    "    FILTER (regex(?type, \"ACTIV\", \"i\") || regex(?type, \"INHIB\", \"i\"))\n",
    "\n",
    "    ?regul bp:xref ?publi . \n",
    "    FILTER (regex(?publi, \"pubmed\"))\n",
    "\n",
    "    ?regul bp:controller ?source . \n",
    "    ?source bp:displayName ?source_name . \n",
    "    ?regul bp:controlled ?target . \n",
    "    ?target bp:displayName ?target_name . \n",
    "    FILTER (regex(?target_name, \"SCN5A\", \"i\"))\n",
    "} \n",
    "\n",
    "\"\"\""
   ]
  },
  {
   "cell_type": "markdown",
   "metadata": {},
   "source": [
    "## Question 9\n",
    "From the previous query, retrieve a tabular file (CSV) with 3 columns for the source name, the regulation type, and the target name. Use the http://app.rawgraphs.io web tool to generate an alluvial flow chart which displays the relations between the source and target nodes. You should obtain something like\n",
    "![:scale 50%](fig/chart.png)\n"
   ]
  },
  {
   "cell_type": "code",
   "execution_count": null,
   "metadata": {},
   "outputs": [],
   "source": []
  },
  {
   "cell_type": "markdown",
   "metadata": {},
   "source": [
    "## Question 10 \n",
    "Use what you learned (recently) to produce a SIF file for this regulation information and display it through Cytoscape. \n",
    "\n",
    "More technical details to be provided soon ... "
   ]
  },
  {
   "cell_type": "code",
   "execution_count": 5,
   "metadata": {},
   "outputs": [],
   "source": [
    "import requests\n",
    "\n",
    "queryString = \"\"\"\n",
    "PREFIX bp: <http://www.biopax.org/release/biopax-level3.owl#>\n",
    "\n",
    "SELECT * WHERE {\n",
    "    ?regul rdf:type bp:TemplateReactionRegulation . \n",
    "    ?regul bp:dataSource ?ds . \n",
    "    ?regul bp:controlType ?type .\n",
    "    FILTER (regex(?type, \"ACTIV\", \"i\") || regex(?type, \"INHIB\", \"i\"))\n",
    "\n",
    "    ?regul bp:xref ?publi . \n",
    "    FILTER (regex(?publi, \"pubmed\"))\n",
    "\n",
    "    ?regul bp:controller ?source . \n",
    "    ?source bp:displayName ?source_name . \n",
    "    ?regul bp:controlled ?target . \n",
    "    ?target bp:displayName ?target_name . \n",
    "    FILTER (regex(?target_name, \"SCN5A\", \"i\"))\n",
    "} \n",
    "\n",
    "\"\"\"\n",
    "\n",
    "\n",
    "from SPARQLWrapper import SPARQLWrapper, JSON\n",
    "sparql = SPARQLWrapper(\"http://rdf.pathwaycommons.org/sparql\")\n",
    "sparql.setReturnFormat(JSON)\n",
    "sparql.setQuery(queryString)\n",
    "results = sparql.query().convert()\n"
   ]
  },
  {
   "cell_type": "code",
   "execution_count": 6,
   "metadata": {},
   "outputs": [
    {
     "name": "stdout",
     "output_type": "stream",
     "text": [
      "hsa-miR-192-5p -- INHIBITION --> SCN5A production.\n",
      "Tobacco Smoke Pollution analog -- INHIBITION --> expression of SCN5A mRNA\n",
      "Phenylbutyrates -- ACTIVATION --> expression of SCN5A mRNA\n",
      "1-hydroxy-2-oxo-3,3-bis(2-aminoethyl)-1-triazene -- ACTIVATION --> expression of SCN5A mRNA\n",
      "Tretinoin -- ACTIVATION --> expression of SCN5A mRNA\n",
      "Doxorubicin -- INHIBITION --> expression of SCN5A mRNA\n",
      "Doxorubicin -- INHIBITION --> expression of SCN5A mRNA\n",
      "Doxorubicin -- INHIBITION --> expression of SCN5A mRNA\n",
      "Doxorubicin -- INHIBITION --> expression of SCN5A mRNA\n",
      "K 7174 -- ACTIVATION --> expression of SCN5A mRNA\n",
      "Mitoxantrone -- INHIBITION --> expression of SCN5A mRNA\n",
      "Mitoxantrone -- INHIBITION --> expression of SCN5A mRNA\n",
      "Daunorubicin -- INHIBITION --> expression of SCN5A mRNA\n",
      "Daunorubicin -- INHIBITION --> expression of SCN5A mRNA\n",
      "Plant Extracts -- INHIBITION --> expression of SCN5A mRNA\n",
      "sodium arsenite -- INHIBITION --> expression of SCN5A mRNA\n",
      "Quercetin -- ACTIVATION --> expression of SCN5A mRNA\n",
      "butyraldehyde -- INHIBITION --> expression of SCN5A mRNA\n",
      "Phenylbutyrates -- ACTIVATION --> expression of SCN5A mRNA\n",
      "1-hydroxy-2-oxo-3,3-bis(2-aminoethyl)-1-triazene -- ACTIVATION --> expression of SCN5A mRNA\n",
      "Tretinoin -- ACTIVATION --> expression of SCN5A mRNA\n",
      "incobotulinumtoxinA -- INHIBITION --> expression of SCN5A mRNA\n",
      "pentanal -- ACTIVATION --> expression of SCN5A mRNA\n"
     ]
    }
   ],
   "source": [
    "for result in results[\"results\"][\"bindings\"]:\n",
    "    print(f'{result[\"source_name\"][\"value\"]} -- {result[\"type\"][\"value\"]} --> {result[\"target_name\"][\"value\"]}')\n"
   ]
  },
  {
   "cell_type": "code",
   "execution_count": 7,
   "metadata": {},
   "outputs": [],
   "source": [
    "## Here we create the output SIF file:\n",
    "import csv\n",
    "\n",
    "with open('output.sif', 'wt') as out_file:\n",
    "    tsv_writer = csv.writer(out_file, delimiter='\\t')\n",
    "    for result in results[\"results\"][\"bindings\"]:\n",
    "        row = []\n",
    "        row.append(result[\"source_name\"][\"value\"])\n",
    "        row.append(result[\"type\"][\"value\"])\n",
    "        row.append(result[\"target_name\"][\"value\"])\n",
    "        tsv_writer.writerow(row)"
   ]
  },
  {
   "cell_type": "code",
   "execution_count": null,
   "metadata": {},
   "outputs": [],
   "source": []
  }
 ],
 "metadata": {
  "kernelspec": {
   "display_name": "Python 3",
   "language": "python",
   "name": "python3"
  },
  "language_info": {
   "codemirror_mode": {
    "name": "ipython",
    "version": 3
   },
   "file_extension": ".py",
   "mimetype": "text/x-python",
   "name": "python",
   "nbconvert_exporter": "python",
   "pygments_lexer": "ipython3",
   "version": "3.7.6"
  }
 },
 "nbformat": 4,
 "nbformat_minor": 4
}
